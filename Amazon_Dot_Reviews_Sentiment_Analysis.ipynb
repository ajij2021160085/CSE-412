{
  "metadata": {
    "kernelspec": {
      "display_name": "Python 3",
      "language": "python",
      "name": "python3"
    },
    "language_info": {
      "name": "python",
      "version": "3.6.6",
      "mimetype": "text/x-python",
      "codemirror_mode": {
        "name": "ipython",
        "version": 3
      },
      "pygments_lexer": "ipython3",
      "nbconvert_exporter": "python",
      "file_extension": ".py"
    },
    "colab": {
      "provenance": [],
      "name": "Amazon Dot Reviews: Sentiment Analysis ",
      "include_colab_link": true
    },
    "kaggle": {
      "accelerator": "none",
      "dataSources": [
        {
          "sourceId": 61725,
          "sourceType": "datasetVersion",
          "datasetId": 39657
        },
        {
          "sourceId": 10442061,
          "sourceType": "datasetVersion",
          "datasetId": 6463152
        },
        {
          "sourceId": 10504224,
          "sourceType": "datasetVersion",
          "datasetId": 6502918
        }
      ],
      "dockerImageVersionId": 20477,
      "isInternetEnabled": false,
      "language": "python",
      "sourceType": "notebook",
      "isGpuEnabled": false
    }
  },
  "nbformat_minor": 0,
  "nbformat": 4,
  "cells": [
    {
      "cell_type": "markdown",
      "metadata": {
        "id": "view-in-github",
        "colab_type": "text"
      },
      "source": [
        "<a href=\"https://colab.research.google.com/github/ajij2021160085/CSE-412/blob/main/Amazon_Dot_Reviews_Sentiment_Analysis.ipynb\" target=\"_parent\"><img src=\"https://colab.research.google.com/assets/colab-badge.svg\" alt=\"Open In Colab\"/></a>"
      ]
    },
    {
      "source": [
        "# IMPORTANT: RUN THIS CELL IN ORDER TO IMPORT YOUR KAGGLE DATA SOURCES,\n",
        "# THEN FEEL FREE TO DELETE THIS CELL.\n",
        "# NOTE: THIS NOTEBOOK ENVIRONMENT DIFFERS FROM KAGGLE'S PYTHON\n",
        "# ENVIRONMENT SO THERE MAY BE MISSING LIBRARIES USED BY YOUR\n",
        "# NOTEBOOK.\n",
        "import kagglehub\n",
        "sid321axn_amazon_alexa_reviews_path = kagglehub.dataset_download('sid321axn/amazon-alexa-reviews')\n",
        "\n",
        "print('Data source import complete.')\n"
      ],
      "metadata": {
        "id": "fQMRwbcd8JQt"
      },
      "cell_type": "code",
      "outputs": [],
      "execution_count": null
    },
    {
      "cell_type": "code",
      "source": [
        "# PRELIMINARIES"
      ],
      "metadata": {
        "id": "4MIOl-vrNAGz",
        "trusted": true,
        "_uuid": "c238c5e67171ff8f18322f589f5c44609cc57845",
        "execution": {
          "iopub.status.busy": "2025-01-20T15:01:23.667362Z",
          "iopub.execute_input": "2025-01-20T15:01:23.667699Z",
          "iopub.status.idle": "2025-01-20T15:01:23.671871Z",
          "shell.execute_reply.started": "2025-01-20T15:01:23.667642Z",
          "shell.execute_reply": "2025-01-20T15:01:23.670756Z"
        }
      },
      "outputs": [],
      "execution_count": null
    },
    {
      "cell_type": "code",
      "source": [
        "'''\n",
        "\n",
        "link: https://www.kaggle.com/sid321axn/amazon-alexa-reviews/home\n",
        "\n",
        "This dataset consists of a nearly 3000 Amazon customer reviews\n",
        "(input text), star ratings, date of review, variant and feedback\n",
        "of various amazon Alexa products like Alexa Echo, Echo dots,\n",
        "Alexa Firesticks etc. for learning how to train Machine for\n",
        "sentiment analysis.\n",
        "\n",
        "You can use this data to analyze Amazon’s Alexa product;\n",
        "discover insights into consumer reviews and assist with machine learning\n",
        "models.You can also train your machine models for sentiment analysis and\n",
        "analyze customer reviews how many positive reviews ?\n",
        "and how many negative reviews ?\n",
        "\n",
        "Extracted from Amazon's website\n",
        "'''"
      ],
      "metadata": {
        "id": "6puL81jF9Onn",
        "trusted": true,
        "_uuid": "d7cf39fb93d59ed12bd7409adf26c9947317342d",
        "execution": {
          "iopub.status.busy": "2025-01-20T15:01:23.673031Z",
          "iopub.execute_input": "2025-01-20T15:01:23.673245Z",
          "iopub.status.idle": "2025-01-20T15:01:23.69103Z",
          "shell.execute_reply.started": "2025-01-20T15:01:23.673205Z",
          "shell.execute_reply": "2025-01-20T15:01:23.690215Z"
        }
      },
      "outputs": [],
      "execution_count": null
    },
    {
      "cell_type": "code",
      "source": [
        "import pandas as pd, numpy as np\n",
        "PATH = \"/kaggle/input/combinedataset-all-device/combined_smart_devices_sentiment.csv\"\n",
        "raw_data = pd.read_csv(PATH)"
      ],
      "metadata": {
        "id": "vrNixEqOvo_1",
        "trusted": true,
        "_uuid": "e604962090409fc5014e5575292975aa5a1d9b6c",
        "execution": {
          "iopub.status.busy": "2025-01-20T15:01:23.692492Z",
          "iopub.execute_input": "2025-01-20T15:01:23.692865Z",
          "iopub.status.idle": "2025-01-20T15:01:23.736832Z",
          "shell.execute_reply.started": "2025-01-20T15:01:23.692812Z",
          "shell.execute_reply": "2025-01-20T15:01:23.735275Z"
        }
      },
      "outputs": [],
      "execution_count": null
    },
    {
      "cell_type": "code",
      "source": [
        "pd.set_option('display.max_colwidth', -1)\n",
        "raw_data.head()"
      ],
      "metadata": {
        "id": "bWGK1-S5f0m0",
        "trusted": true,
        "_uuid": "ad8b13deb3d85537332b9c0e97d8dd999dcfb720",
        "execution": {
          "iopub.status.busy": "2025-01-20T15:01:23.738186Z",
          "iopub.execute_input": "2025-01-20T15:01:23.738399Z",
          "iopub.status.idle": "2025-01-20T15:01:23.756283Z",
          "shell.execute_reply.started": "2025-01-20T15:01:23.73836Z",
          "shell.execute_reply": "2025-01-20T15:01:23.754732Z"
        }
      },
      "outputs": [],
      "execution_count": null
    },
    {
      "cell_type": "code",
      "source": [
        "# Mapping ratings to sentiment classes\n",
        "# 5, 4 -> Positive (1), 1, 2 -> Negative (0), 3 -> Neutral (2)\n",
        "raw_data['sentiment'] = raw_data['ratings'].map(lambda x: 1 if x in [5, 4] else 0)\n",
        "\n",
        "# Verifying the updated dataset\n",
        "raw_data.head()"
      ],
      "metadata": {
        "trusted": true,
        "execution": {
          "iopub.status.busy": "2025-01-20T15:01:23.757513Z",
          "iopub.execute_input": "2025-01-20T15:01:23.75784Z",
          "iopub.status.idle": "2025-01-20T15:01:23.789594Z",
          "shell.execute_reply.started": "2025-01-20T15:01:23.757778Z",
          "shell.execute_reply": "2025-01-20T15:01:23.788306Z"
        },
        "id": "bGBSLP4n8JQx"
      },
      "outputs": [],
      "execution_count": null
    },
    {
      "cell_type": "code",
      "source": [
        "raw_data\n"
      ],
      "metadata": {
        "trusted": true,
        "execution": {
          "iopub.status.busy": "2025-01-20T15:01:23.790766Z",
          "iopub.execute_input": "2025-01-20T15:01:23.791035Z",
          "iopub.status.idle": "2025-01-20T15:01:23.831899Z",
          "shell.execute_reply.started": "2025-01-20T15:01:23.79098Z",
          "shell.execute_reply": "2025-01-20T15:01:23.830391Z"
        },
        "id": "k83qcIwn8JQy"
      },
      "outputs": [],
      "execution_count": null
    },
    {
      "cell_type": "code",
      "source": [
        "raw_data.ratings.value_counts()"
      ],
      "metadata": {
        "trusted": true,
        "_uuid": "09391715e35f8f8deee0c42cc0df331d64cf4949",
        "execution": {
          "iopub.status.busy": "2025-01-20T15:01:23.833213Z",
          "iopub.execute_input": "2025-01-20T15:01:23.833453Z",
          "iopub.status.idle": "2025-01-20T15:01:23.848976Z",
          "shell.execute_reply.started": "2025-01-20T15:01:23.833414Z",
          "shell.execute_reply": "2025-01-20T15:01:23.84792Z"
        },
        "id": "0XqnGhVm8JQy"
      },
      "outputs": [],
      "execution_count": null
    },
    {
      "cell_type": "code",
      "source": [
        "# Remove Rating = 3 categories as they are likely to confuse the model.\n",
        "raw_data['response'] = 0\n",
        "raw_data.loc[raw_data['ratings'].isin([4,5]), 'response'] = 1\n",
        "raw_data.loc[raw_data['ratings'] == 3, 'response'] = 2\n",
        "bad_reviews = raw_data[raw_data['response'] == 0]\n",
        "good_reviews = raw_data[raw_data['response'] == 1]\n",
        "all_reviews = good_reviews.append(bad_reviews)"
      ],
      "metadata": {
        "id": "zw6dYgQCLJP1",
        "trusted": true,
        "_uuid": "d46d89be9180e7fcd7d60c3729f56d4382ba4dc4",
        "execution": {
          "iopub.status.busy": "2025-01-20T15:01:23.85016Z",
          "iopub.execute_input": "2025-01-20T15:01:23.850391Z",
          "iopub.status.idle": "2025-01-20T15:01:23.874773Z",
          "shell.execute_reply.started": "2025-01-20T15:01:23.850347Z",
          "shell.execute_reply": "2025-01-20T15:01:23.873481Z"
        }
      },
      "outputs": [],
      "execution_count": null
    },
    {
      "cell_type": "code",
      "source": [
        "data = all_reviews[['response', 'verified_reviews']]\n",
        "data.columns = ['response', 'text']"
      ],
      "metadata": {
        "id": "-lvOpK4U8-53",
        "trusted": true,
        "_uuid": "180d41976b8f4460e9fe3ab518b0b7bbb45e0829",
        "execution": {
          "iopub.status.busy": "2025-01-20T15:01:23.876182Z",
          "iopub.execute_input": "2025-01-20T15:01:23.87646Z",
          "iopub.status.idle": "2025-01-20T15:01:23.89863Z",
          "shell.execute_reply.started": "2025-01-20T15:01:23.87641Z",
          "shell.execute_reply": "2025-01-20T15:01:23.897805Z"
        }
      },
      "outputs": [],
      "execution_count": null
    },
    {
      "cell_type": "code",
      "source": [
        "# EXPLORATORY DATA ANALYSIS"
      ],
      "metadata": {
        "id": "cH6bIyqq_fdI",
        "trusted": true,
        "_uuid": "4d5115e6f9e617657dcf1e1bc71fb54a765b20e5",
        "execution": {
          "iopub.status.busy": "2025-01-20T15:01:23.900317Z",
          "iopub.execute_input": "2025-01-20T15:01:23.900622Z",
          "iopub.status.idle": "2025-01-20T15:01:23.912014Z",
          "shell.execute_reply.started": "2025-01-20T15:01:23.900581Z",
          "shell.execute_reply": "2025-01-20T15:01:23.911076Z"
        }
      },
      "outputs": [],
      "execution_count": null
    },
    {
      "cell_type": "code",
      "source": [
        "pd.set_option('display.max_colwidth', -1)\n",
        "data.head()"
      ],
      "metadata": {
        "id": "Aj-Aqbed-wgW",
        "trusted": true,
        "_uuid": "60c6e5881ea8e628a7d2ffcd1342f95b8f051b5e",
        "execution": {
          "iopub.status.busy": "2025-01-20T15:01:23.913225Z",
          "iopub.execute_input": "2025-01-20T15:01:23.913416Z",
          "iopub.status.idle": "2025-01-20T15:01:23.936355Z",
          "shell.execute_reply.started": "2025-01-20T15:01:23.913385Z",
          "shell.execute_reply": "2025-01-20T15:01:23.935267Z"
        }
      },
      "outputs": [],
      "execution_count": null
    },
    {
      "cell_type": "code",
      "source": [
        "data.shape"
      ],
      "metadata": {
        "id": "jVLcfmTNgtGT",
        "trusted": true,
        "_uuid": "402b1f06ccfee30bb255296ec7c3ce8efff626f7",
        "execution": {
          "iopub.status.busy": "2025-01-20T15:01:23.937385Z",
          "iopub.execute_input": "2025-01-20T15:01:23.93758Z",
          "iopub.status.idle": "2025-01-20T15:01:23.95157Z",
          "shell.execute_reply.started": "2025-01-20T15:01:23.937547Z",
          "shell.execute_reply": "2025-01-20T15:01:23.950478Z"
        }
      },
      "outputs": [],
      "execution_count": null
    },
    {
      "cell_type": "code",
      "source": [
        "# Event Rate\n",
        "data.response.value_counts()"
      ],
      "metadata": {
        "id": "NmzIODVZ7y4u",
        "trusted": true,
        "_uuid": "b2d24c5a482c80cefd41c9cbd98546d545b7c727",
        "execution": {
          "iopub.status.busy": "2025-01-20T15:01:23.952959Z",
          "iopub.execute_input": "2025-01-20T15:01:23.9532Z",
          "iopub.status.idle": "2025-01-20T15:01:23.973187Z",
          "shell.execute_reply.started": "2025-01-20T15:01:23.953152Z",
          "shell.execute_reply": "2025-01-20T15:01:23.972073Z"
        }
      },
      "outputs": [],
      "execution_count": null
    },
    {
      "cell_type": "code",
      "source": [
        "# Check for Nulls\n",
        "data.isnull().sum()"
      ],
      "metadata": {
        "id": "P6Eb3_ad8bcu",
        "trusted": true,
        "_uuid": "660254db7fdb1c288fc0a5ae2f4a2d89916a6f67",
        "execution": {
          "iopub.status.busy": "2025-01-20T15:01:23.974394Z",
          "iopub.execute_input": "2025-01-20T15:01:23.974611Z",
          "iopub.status.idle": "2025-01-20T15:01:23.990572Z",
          "shell.execute_reply.started": "2025-01-20T15:01:23.974567Z",
          "shell.execute_reply": "2025-01-20T15:01:23.989722Z"
        }
      },
      "outputs": [],
      "execution_count": null
    },
    {
      "cell_type": "code",
      "source": [
        "# Check Data Types\n",
        "data['text'].astype('str')\n",
        "data.dtypes"
      ],
      "metadata": {
        "id": "9yY8a2cPAKxx",
        "trusted": true,
        "_uuid": "a40222ff82640d8690d6bec70ef3b1320bdd5778",
        "execution": {
          "iopub.status.busy": "2025-01-20T15:01:23.991689Z",
          "iopub.execute_input": "2025-01-20T15:01:23.991905Z",
          "iopub.status.idle": "2025-01-20T15:01:24.006851Z",
          "shell.execute_reply.started": "2025-01-20T15:01:23.991861Z",
          "shell.execute_reply": "2025-01-20T15:01:24.005988Z"
        }
      },
      "outputs": [],
      "execution_count": null
    },
    {
      "cell_type": "code",
      "source": [
        "import warnings\n",
        "warnings.filterwarnings(\"ignore\")"
      ],
      "metadata": {
        "trusted": true,
        "_uuid": "e716a160b4ceb02c08e5520af5eb53153b7c4d38",
        "execution": {
          "iopub.status.busy": "2025-01-20T15:01:24.007931Z",
          "iopub.execute_input": "2025-01-20T15:01:24.008089Z",
          "iopub.status.idle": "2025-01-20T15:01:24.021091Z",
          "shell.execute_reply.started": "2025-01-20T15:01:24.008058Z",
          "shell.execute_reply": "2025-01-20T15:01:24.019802Z"
        },
        "id": "Gi4yCb7j8JQz"
      },
      "outputs": [],
      "execution_count": null
    },
    {
      "cell_type": "code",
      "source": [
        "# SYNTACTICAL FEATURES (PHYSICAL DESCRIPTIONS)"
      ],
      "metadata": {
        "id": "fb7DK04p8jlv",
        "trusted": true,
        "_uuid": "bf18a862d86b048a03a03fc5592cd99df1754b26",
        "execution": {
          "iopub.status.busy": "2025-01-20T15:01:24.022214Z",
          "iopub.execute_input": "2025-01-20T15:01:24.022435Z",
          "iopub.status.idle": "2025-01-20T15:01:24.035508Z",
          "shell.execute_reply.started": "2025-01-20T15:01:24.022384Z",
          "shell.execute_reply": "2025-01-20T15:01:24.034697Z"
        }
      },
      "outputs": [],
      "execution_count": null
    },
    {
      "cell_type": "code",
      "source": [
        "# 1. Size Measurements\n",
        "\n",
        "# no. of characters (also text size)\n",
        "data['char_cnt'] = data['text'].str.len()\n",
        "\n",
        "# no. of words\n",
        "data['word_cnt'] = data['text'].apply(lambda x: len(str(x).split()))\n",
        "\n",
        "# no. of sentences\n",
        "data['sentence_cnt'] = data['text'].apply(lambda x: len(str(x).split(\". \")))\n",
        "\n",
        "data[['text', 'char_cnt', 'word_cnt', 'sentence_cnt']].head()"
      ],
      "metadata": {
        "id": "JqnwdkP38qwB",
        "trusted": true,
        "_uuid": "8db5fa1f056d252e09604c4e765e95a1d2d2db54",
        "execution": {
          "iopub.status.busy": "2025-01-20T15:01:24.036974Z",
          "iopub.execute_input": "2025-01-20T15:01:24.037193Z",
          "iopub.status.idle": "2025-01-20T15:01:24.455485Z",
          "shell.execute_reply.started": "2025-01-20T15:01:24.037159Z",
          "shell.execute_reply": "2025-01-20T15:01:24.45433Z"
        }
      },
      "outputs": [],
      "execution_count": null
    },
    {
      "cell_type": "code",
      "source": [
        "# 2. Derived Ratios\n",
        "\n",
        "# avg. word size\n",
        "data['avg_word_size'] = data['char_cnt']/data['word_cnt']\n",
        "\n",
        "# avg. sentence size\n",
        "data['avg_char_per_sent'] = data['char_cnt']/data['sentence_cnt']\n",
        "\n",
        "# avg. words per sentence\n",
        "data['avg_word_per_sent'] = data['word_cnt']/data['sentence_cnt']\n",
        "\n",
        "data[['text','avg_word_size','avg_char_per_sent', 'avg_word_per_sent']].head()"
      ],
      "metadata": {
        "id": "72hLUS7xgLX1",
        "trusted": true,
        "_uuid": "30c010c3a86e25b6e41f1b94a78a1e6c0059b3b1",
        "execution": {
          "iopub.status.busy": "2025-01-20T15:01:24.456336Z",
          "iopub.execute_input": "2025-01-20T15:01:24.456503Z",
          "iopub.status.idle": "2025-01-20T15:01:24.82069Z",
          "shell.execute_reply.started": "2025-01-20T15:01:24.456471Z",
          "shell.execute_reply": "2025-01-20T15:01:24.819813Z"
        }
      },
      "outputs": [],
      "execution_count": null
    },
    {
      "cell_type": "code",
      "source": [
        "# 3. Stopwords/filler Words\n",
        "\n",
        "import nltk\n",
        "nltk.download('stopwords')\n",
        "from nltk.corpus import stopwords\n",
        "stop = stopwords.words('english')\n",
        "\n",
        "# no. of stopwords\n",
        "data['stop_cnt'] = data['text'].apply(lambda x: len([x for x in x.split() if x in stop]))\n",
        "\n",
        "# no. of stopwords in every sentence\n",
        "data['avg_stop_per_sent'] = data['stop_cnt']/data['sentence_cnt']\n",
        "\n",
        "# no. of stopwords to total words\n",
        "data['avg_stop_per_word'] = data['stop_cnt']/data['word_cnt']\n",
        "\n",
        "data[['text','stop_cnt', 'avg_stop_per_sent', 'avg_stop_per_word']].head()"
      ],
      "metadata": {
        "id": "9U6yr2FrdTY_",
        "trusted": true,
        "_uuid": "20ce3059d81051276b271a54c756f11f70d4996a",
        "execution": {
          "iopub.status.busy": "2025-01-20T15:01:24.82195Z",
          "iopub.execute_input": "2025-01-20T15:01:24.82215Z",
          "iopub.status.idle": "2025-01-20T15:01:57.121692Z",
          "shell.execute_reply.started": "2025-01-20T15:01:24.822112Z",
          "shell.execute_reply": "2025-01-20T15:01:57.121072Z"
        }
      },
      "outputs": [],
      "execution_count": null
    },
    {
      "cell_type": "code",
      "source": [
        "# 4. Counts of Key Characters/Words\n",
        "\n",
        "# no. of hashtags\n",
        "data['hash_cnt'] = data['text'].apply(lambda x: len([x for x in x.split() if x.startswith('#')]))\n",
        "\n",
        "# no. of @tags\n",
        "data['tag_cnt'] = data['text'].apply(lambda x: len([x for x in x.split() if x.startswith('@')]))\n",
        "\n",
        "# no. of exclamations!\n",
        "data['excl_cnt'] = data['text'].apply(lambda x: len([x for x in x.split() if x.endswith('!')]))\n",
        "\n",
        "# no. of questions?\n",
        "data['ques_cnt'] = data['text'].apply(lambda x: len([x for x in x.split() if x.endswith('?')]))\n",
        "\n",
        "# no. of numeric chars\n",
        "data['num_cnt'] = data['text'].apply(lambda x: sum(i.isdigit() for i in x))\n",
        "\n",
        "# no. of uppercase words (SHOUTING?)\n",
        "data['upper_cnt'] = data['text'].apply(lambda x: len([x for x in x.split() if x.isupper()]))\n",
        "\n",
        "data[['text','hash_cnt', 'tag_cnt', 'excl_cnt','ques_cnt', 'num_cnt', 'upper_cnt']].head()"
      ],
      "metadata": {
        "id": "Qlf0iAfQlnl9",
        "trusted": true,
        "_uuid": "785eca5dfa2bee558457397c4e9ecfbf1bbda6a9",
        "execution": {
          "iopub.status.busy": "2025-01-20T15:01:57.12387Z",
          "iopub.execute_input": "2025-01-20T15:01:57.124109Z",
          "iopub.status.idle": "2025-01-20T15:01:57.372258Z",
          "shell.execute_reply.started": "2025-01-20T15:01:57.124067Z",
          "shell.execute_reply": "2025-01-20T15:01:57.371315Z"
        }
      },
      "outputs": [],
      "execution_count": null
    },
    {
      "cell_type": "code",
      "source": [
        "# 5. Counts of Parts of Speech (POS Counts)\n",
        "\n",
        "# tokenize\n",
        "nltk.download('punkt')\n",
        "nltk.download('averaged_perceptron_tagger')\n",
        "from nltk import word_tokenize, pos_tag\n",
        "data['word_tokens'] = data['text'].apply(word_tokenize)\n",
        "\n",
        "# number of nouns\n",
        "data['noun_cnt'] = data['word_tokens'].apply(lambda x: len([i for i in pos_tag(x) if i[1] in (\"NN\", \"NNS\", \"NNP\", \"NNPS\")]))\n",
        "data['proper_noun_cnt'] = data['word_tokens'].apply(lambda x: len([i for i in pos_tag(x) if i[1] in (\"NNP\", \"NNPS\")]))\n",
        "\n",
        "# number of pronouns\n",
        "data['pronoun_cnt'] = data['word_tokens'].apply(lambda x: len([i for i in pos_tag(x) if i[1] in (\"PRP\", \"PRP$\")]))\n",
        "data['wh_pronoun_cnt'] = data['word_tokens'].apply(lambda x: len([i for i in pos_tag(x) if i[1] in (\"WP\", \"WP$\")]))\n",
        "data['pronoun_tot_cnt'] = data['pronoun_cnt'] + data['wh_pronoun_cnt']\n",
        "\n",
        "# number of adjectives\n",
        "data['adj_cnt'] = data['word_tokens'].apply(lambda x: len([i for i in pos_tag(x) if i[1] in (\"JJ\",\"JJR\", \"JJS\")]))\n",
        "\n",
        "# number of verbs\n",
        "data['verb_past_cnt'] = data['word_tokens'].apply(lambda x: len([i for i in pos_tag(x) if i[1] in (\"VBP\", \"VBZ\",\"VBG\")]))\n",
        "data['verb_present_cnt'] = data['word_tokens'].apply(lambda x: len([i for i in pos_tag(x) if i[1] in (\"VBD\", \"VBN\")]))\n",
        "data['verb_cnt'] = data['word_tokens'].apply(lambda x: len([i for i in pos_tag(x) if i[1] in (\"VB\")]))\n",
        "data['verb_tot_cnt'] =  data['verb_past_cnt'] + data['verb_present_cnt'] + data['verb_cnt']\n",
        "\n",
        "# number of adverbs\n",
        "data['adverb_cnt'] = data['word_tokens'].apply(lambda x: len([i for i in pos_tag(x) if i[1] in (\"RB\", \"RBR\", \"RBS\")]))\n",
        "\n",
        "# number of modals\n",
        "data['modal_cnt'] = data['word_tokens'].apply(lambda x: len([i for i in pos_tag(x) if i[1] in (\"MD\")]))\n",
        "\n",
        "# number of foreign words\n",
        "data['foreign_cnt'] = data['word_tokens'].apply(lambda x: len([i for i in pos_tag(x) if i[1] in (\"FW\")]))\n",
        "\n",
        "# number of determiners\n",
        "data['det_cnt'] = data['word_tokens'].apply(lambda x: len([i for i in pos_tag(x) if i[1] in (\"DET\")]))\n",
        "\n",
        "# number of conjunctions\n",
        "data['cc_cnt'] = data['word_tokens'].apply(lambda x: len([i for i in pos_tag(x) if i[1] in (\"CC\")]))\n",
        "data['in_cnt'] = data['word_tokens'].apply(lambda x: len([i for i in pos_tag(x) if i[1] in (\"IN\")]))\n",
        "data['ccin_cnt'] = data['cc_cnt'] + data['in_cnt']\n",
        "\n",
        "data[['text','noun_cnt', 'proper_noun_cnt',\n",
        "                'pronoun_cnt','wh_pronoun_cnt','pronoun_tot_cnt',\n",
        "                'adj_cnt', 'adverb_cnt','foreign_cnt','det_cnt', 'modal_cnt',\n",
        "                'verb_cnt', 'verb_past_cnt', 'verb_present_cnt','verb_tot_cnt'\n",
        "                ,'cc_cnt', 'in_cnt', 'ccin_cnt']].head()"
      ],
      "metadata": {
        "id": "_vOiY70MK9cq",
        "trusted": true,
        "_uuid": "024b8a72bd99de8b997554a4a6327f6eb53a071b",
        "execution": {
          "iopub.status.busy": "2025-01-20T15:01:57.373278Z",
          "iopub.execute_input": "2025-01-20T15:01:57.373457Z",
          "iopub.status.idle": "2025-01-20T15:04:42.713503Z",
          "shell.execute_reply.started": "2025-01-20T15:01:57.373416Z",
          "shell.execute_reply": "2025-01-20T15:04:42.711465Z"
        }
      },
      "outputs": [],
      "execution_count": null
    },
    {
      "cell_type": "code",
      "source": [
        "# Prepare the Data\n",
        "\n",
        "features = ['response','char_cnt', 'word_cnt', 'sentence_cnt', 'avg_word_size','avg_char_per_sent',\n",
        "                  'avg_word_per_sent', 'stop_cnt', 'avg_stop_per_sent', 'avg_stop_per_word',\n",
        "                  'hash_cnt', 'tag_cnt', 'excl_cnt','ques_cnt', 'num_cnt', 'upper_cnt',\n",
        "           'noun_cnt', 'proper_noun_cnt',\n",
        "                'pronoun_cnt','wh_pronoun_cnt','pronoun_tot_cnt',\n",
        "                'adj_cnt', 'adverb_cnt','foreign_cnt','det_cnt', 'modal_cnt',\n",
        "                'verb_cnt', 'verb_past_cnt', 'verb_present_cnt','verb_tot_cnt'\n",
        "                ,'cc_cnt', 'in_cnt', 'ccin_cnt']\n",
        "data_temp = data[features]\n",
        "data_temp = data_temp.dropna()\n",
        "data_temp.head()"
      ],
      "metadata": {
        "id": "O0XjuqOe3QoI",
        "trusted": true,
        "_uuid": "feae7c01ee61c922397decbbec67e889091e8033",
        "execution": {
          "iopub.status.busy": "2025-01-20T15:04:42.714982Z",
          "iopub.execute_input": "2025-01-20T15:04:42.715227Z",
          "iopub.status.idle": "2025-01-20T15:04:42.775007Z",
          "shell.execute_reply.started": "2025-01-20T15:04:42.715186Z",
          "shell.execute_reply": "2025-01-20T15:04:42.773774Z"
        }
      },
      "outputs": [],
      "execution_count": null
    },
    {
      "cell_type": "code",
      "source": [
        "data_temp.shape"
      ],
      "metadata": {
        "id": "y78-7zZA3mqx",
        "trusted": true,
        "_uuid": "22dd657a8ee85bb97a248f9b9baea00750aca72b",
        "execution": {
          "iopub.status.busy": "2025-01-20T15:04:42.776068Z",
          "iopub.execute_input": "2025-01-20T15:04:42.77628Z",
          "iopub.status.idle": "2025-01-20T15:04:42.783111Z",
          "shell.execute_reply.started": "2025-01-20T15:04:42.776241Z",
          "shell.execute_reply": "2025-01-20T15:04:42.78171Z"
        }
      },
      "outputs": [],
      "execution_count": null
    },
    {
      "cell_type": "code",
      "source": [
        "!pip install catboost"
      ],
      "metadata": {
        "id": "1cFtmdgormZk",
        "trusted": true,
        "_uuid": "436107602329d2fc18b82799397c30902a140d2e",
        "execution": {
          "iopub.status.busy": "2025-01-20T15:04:42.805487Z",
          "iopub.execute_input": "2025-01-20T15:04:42.80599Z",
          "iopub.status.idle": "2025-01-20T15:05:18.880936Z",
          "shell.execute_reply.started": "2025-01-20T15:04:42.805777Z",
          "shell.execute_reply": "2025-01-20T15:05:18.8799Z"
        }
      },
      "outputs": [],
      "execution_count": null
    },
    {
      "cell_type": "code",
      "source": [
        "# PRE PROCESSING FOR ADVANCED FEATURES"
      ],
      "metadata": {
        "id": "Yr8Hh0yyGmsB",
        "trusted": true,
        "_uuid": "e1bf90d3639dc33525978b31f78f148d4a488ff7",
        "execution": {
          "iopub.status.busy": "2025-01-20T15:05:36.38369Z",
          "iopub.execute_input": "2025-01-20T15:05:36.384271Z",
          "iopub.status.idle": "2025-01-20T15:05:36.389814Z",
          "shell.execute_reply.started": "2025-01-20T15:05:36.384178Z",
          "shell.execute_reply": "2025-01-20T15:05:36.388422Z"
        }
      },
      "outputs": [],
      "execution_count": null
    },
    {
      "cell_type": "code",
      "source": [
        "# lowercase all\n",
        "data['text_clean_v1'] = data['text'].apply(lambda x: \" \".join(x.lower() for x in x.split()))\n",
        "data[['text', 'text_clean_v1']].head()"
      ],
      "metadata": {
        "id": "yrtquDmb53ft",
        "trusted": true,
        "_uuid": "279ed8e070f370dd5b7af312242c3ddbd37a6297",
        "execution": {
          "iopub.status.busy": "2025-01-20T15:05:36.391435Z",
          "iopub.execute_input": "2025-01-20T15:05:36.391748Z",
          "iopub.status.idle": "2025-01-20T15:05:36.453915Z",
          "shell.execute_reply.started": "2025-01-20T15:05:36.391694Z",
          "shell.execute_reply": "2025-01-20T15:05:36.452912Z"
        }
      },
      "outputs": [],
      "execution_count": null
    },
    {
      "cell_type": "code",
      "source": [
        "# remove punctuation\n",
        "data['text_clean_v2'] = data['text_clean_v1'].str.replace('[^\\w\\s]','')\n",
        "data[['text', 'text_clean_v1', 'text_clean_v2']].head()"
      ],
      "metadata": {
        "id": "akHzfm5Y6jG0",
        "trusted": true,
        "_uuid": "080688cea6bef1726592bf800697a04138056cea",
        "execution": {
          "iopub.status.busy": "2025-01-20T15:05:36.454967Z",
          "iopub.execute_input": "2025-01-20T15:05:36.455198Z",
          "iopub.status.idle": "2025-01-20T15:05:36.498289Z",
          "shell.execute_reply.started": "2025-01-20T15:05:36.455151Z",
          "shell.execute_reply": "2025-01-20T15:05:36.497096Z"
        }
      },
      "outputs": [],
      "execution_count": null
    },
    {
      "cell_type": "code",
      "source": [
        "# remove stopwords\n",
        "import nltk\n",
        "nltk.download('stopwords')\n",
        "from nltk.corpus import stopwords\n",
        "stop = stopwords.words('english')\n",
        "\n",
        "data['text_clean_v3'] = data['text'].apply(lambda x: \" \".join(x for x in x.split() if x not in stop))\n",
        "data[['text','text_clean_v3']].head()"
      ],
      "metadata": {
        "id": "LseIcpaq6idv",
        "trusted": true,
        "_uuid": "ca2e3933383dd6e8a3d3c07eaa13ed3407c1ecd2",
        "execution": {
          "iopub.status.busy": "2025-01-20T15:05:36.500045Z",
          "iopub.execute_input": "2025-01-20T15:05:36.500392Z",
          "iopub.status.idle": "2025-01-20T15:06:08.822915Z",
          "shell.execute_reply.started": "2025-01-20T15:05:36.500328Z",
          "shell.execute_reply": "2025-01-20T15:06:08.822269Z"
        }
      },
      "outputs": [],
      "execution_count": null
    },
    {
      "cell_type": "code",
      "source": [
        "'''\n",
        "# correct spelling (takes time)\n",
        "from textblob import TextBlob\n",
        "data['text_clean_v4'] = data['text_clean_v3'].apply(lambda x: str(TextBlob(x).correct()))\n",
        "data[['text_clean_v3', 'text_clean_v4']].head()\n",
        "'''"
      ],
      "metadata": {
        "id": "MNVVLN6U-Bs5",
        "trusted": true,
        "_uuid": "61a8c59a3a0bd2f25b6e0c61d8bd212c4ea41409",
        "execution": {
          "iopub.status.busy": "2025-01-20T15:06:08.82421Z",
          "iopub.execute_input": "2025-01-20T15:06:08.824744Z",
          "iopub.status.idle": "2025-01-20T15:06:08.832469Z",
          "shell.execute_reply.started": "2025-01-20T15:06:08.824505Z",
          "shell.execute_reply": "2025-01-20T15:06:08.831284Z"
        }
      },
      "outputs": [],
      "execution_count": null
    },
    {
      "cell_type": "code",
      "source": [
        "# remove rare words\n",
        "rare_words = pd.Series(' '.join(data['text_clean_v3']).split()).value_counts()[-2500:]\n",
        "rare_words.head()\n",
        "rare_words_list = list(rare_words.index)\n",
        "data['text_clean_v5'] = data['text_clean_v3'].apply(lambda x: \" \".join(x for x in x.split() if x not in rare_words_list))"
      ],
      "metadata": {
        "id": "FDx2fDsd9c1F",
        "trusted": true,
        "_uuid": "605d937aeadab3bb3a8a1b09b99462622bdb9d0c",
        "execution": {
          "iopub.status.busy": "2025-01-20T15:06:08.833707Z",
          "iopub.execute_input": "2025-01-20T15:06:08.833956Z",
          "iopub.status.idle": "2025-01-20T15:06:12.400656Z",
          "shell.execute_reply.started": "2025-01-20T15:06:08.833908Z",
          "shell.execute_reply": "2025-01-20T15:06:12.399287Z"
        }
      },
      "outputs": [],
      "execution_count": null
    },
    {
      "cell_type": "code",
      "source": [
        "# stemming\n",
        "#import nltk\n",
        "nltk.download('stem')\n",
        "from nltk.stem import PorterStemmer\n",
        "from textblob import Word\n",
        "data['text_clean_v6'] = data['text_clean_v5'].apply(lambda x: \" \".join([PorterStemmer().stem(word) for word in x.split()]))\n",
        "data[['text', 'text_clean_v6']].head()"
      ],
      "metadata": {
        "id": "ZdRGTUwx5lhg",
        "trusted": true,
        "_uuid": "2f3f10a9b88b66028cf9d53111154e704f5a253e",
        "execution": {
          "iopub.status.busy": "2025-01-20T15:06:12.402119Z",
          "iopub.execute_input": "2025-01-20T15:06:12.402396Z",
          "iopub.status.idle": "2025-01-20T15:06:46.441391Z",
          "shell.execute_reply.started": "2025-01-20T15:06:12.40235Z",
          "shell.execute_reply": "2025-01-20T15:06:46.44042Z"
        }
      },
      "outputs": [],
      "execution_count": null
    },
    {
      "cell_type": "code",
      "source": [
        "# lemmatization\n",
        "import nltk\n",
        "nltk.download('wordnet')\n",
        "from textblob import Word\n",
        "data['text_clean_v6'] = data['text_clean_v3'].apply(lambda x: \" \".join([Word(word).lemmatize() for word in x.split()]))\n",
        "data[['text', 'text_clean_v6']].head()"
      ],
      "metadata": {
        "id": "bq2zLm8wg6m6",
        "trusted": true,
        "_uuid": "e098c4d1f0852fbac52829588ac13653c694649e",
        "execution": {
          "iopub.status.busy": "2025-01-20T15:06:46.442578Z",
          "iopub.execute_input": "2025-01-20T15:06:46.442778Z",
          "iopub.status.idle": "2025-01-20T15:07:19.057376Z",
          "shell.execute_reply.started": "2025-01-20T15:06:46.44274Z",
          "shell.execute_reply": "2025-01-20T15:07:19.056097Z"
        }
      },
      "outputs": [],
      "execution_count": null
    },
    {
      "cell_type": "code",
      "source": [
        "# to check the effects of text processing just undo it and proceed, then compare result\n",
        "# TLDR: it doesn't help much!\n",
        "data['text_clean_v6'] = data['text']"
      ],
      "metadata": {
        "id": "uvXVA-rZ_RDi",
        "trusted": true,
        "_uuid": "44600dd5426b70da67d3534fdee4f7caaf0ab1d7",
        "execution": {
          "iopub.status.busy": "2025-01-20T15:07:19.058805Z",
          "iopub.execute_input": "2025-01-20T15:07:19.059034Z",
          "iopub.status.idle": "2025-01-20T15:07:19.065063Z",
          "shell.execute_reply.started": "2025-01-20T15:07:19.058999Z",
          "shell.execute_reply": "2025-01-20T15:07:19.063771Z"
        }
      },
      "outputs": [],
      "execution_count": null
    },
    {
      "cell_type": "code",
      "source": [
        "# ADVANCED FEATURE ENGINEERING"
      ],
      "metadata": {
        "id": "4el1L72p6Xsl",
        "trusted": true,
        "_uuid": "ea702748619026ee7e6fda1ed8e807dcd4ff6359",
        "execution": {
          "iopub.status.busy": "2025-01-20T15:07:19.066347Z",
          "iopub.execute_input": "2025-01-20T15:07:19.066589Z",
          "iopub.status.idle": "2025-01-20T15:07:19.086063Z",
          "shell.execute_reply.started": "2025-01-20T15:07:19.066512Z",
          "shell.execute_reply": "2025-01-20T15:07:19.083594Z"
        }
      },
      "outputs": [],
      "execution_count": null
    },
    {
      "cell_type": "code",
      "source": [
        "# Physical Features\n",
        "\n",
        "# no. of characters (also text size)\n",
        "data['char_cnt'] = data['text_clean_v6'].str.len()\n",
        "\n",
        "# no. of words\n",
        "data['word_cnt'] = data['text_clean_v6'].apply(lambda x: len(str(x).split()))\n",
        "\n",
        "# no. of sentences\n",
        "data['sentence_cnt'] = data['text_clean_v6'].apply(lambda x: len(str(x).split(\". \")))\n",
        "\n",
        "# avg. word size\n",
        "data['avg_word_size'] = data['char_cnt']/data['word_cnt']\n",
        "\n",
        "# avg. sentence size\n",
        "data['avg_char_per_sent'] = data['char_cnt']/data['sentence_cnt']\n",
        "\n",
        "# avg. words per sentence\n",
        "data['avg_word_per_sent'] = data['word_cnt']/data['sentence_cnt']"
      ],
      "metadata": {
        "id": "fmMpEr9_TPWQ",
        "trusted": true,
        "_uuid": "f886752a865bbaa7304dd6a6ccab4575a71696f0",
        "execution": {
          "iopub.status.busy": "2025-01-20T15:07:19.087657Z",
          "iopub.execute_input": "2025-01-20T15:07:19.088021Z",
          "iopub.status.idle": "2025-01-20T15:07:19.13072Z",
          "shell.execute_reply.started": "2025-01-20T15:07:19.087955Z",
          "shell.execute_reply": "2025-01-20T15:07:19.128752Z"
        }
      },
      "outputs": [],
      "execution_count": null
    },
    {
      "cell_type": "code",
      "source": [
        "# TERM FREQUENCY/WORD COUNTS"
      ],
      "metadata": {
        "id": "jW7vgw2JMpN6",
        "trusted": true,
        "_uuid": "af1f38a7889bead718794ba95659b21074c3494a",
        "execution": {
          "iopub.status.busy": "2025-01-20T15:07:19.13235Z",
          "iopub.execute_input": "2025-01-20T15:07:19.132649Z",
          "iopub.status.idle": "2025-01-20T15:07:19.138596Z",
          "shell.execute_reply.started": "2025-01-20T15:07:19.132579Z",
          "shell.execute_reply": "2025-01-20T15:07:19.137167Z"
        }
      },
      "outputs": [],
      "execution_count": null
    },
    {
      "cell_type": "code",
      "source": [
        "# find common words\n",
        "common_words = pd.Series(' '.join(data['text_clean_v6']).split()).value_counts()[0:100]\n",
        "common_words.head(10)"
      ],
      "metadata": {
        "id": "aqFsaS977ayc",
        "trusted": true,
        "_uuid": "7db55142d4b6bef63f0ce5797aa4910833b7c4a7",
        "execution": {
          "iopub.status.busy": "2025-01-20T15:07:19.14049Z",
          "iopub.execute_input": "2025-01-20T15:07:19.141145Z",
          "iopub.status.idle": "2025-01-20T15:07:19.234706Z",
          "shell.execute_reply.started": "2025-01-20T15:07:19.140791Z",
          "shell.execute_reply": "2025-01-20T15:07:19.233386Z"
        }
      },
      "outputs": [],
      "execution_count": null
    },
    {
      "cell_type": "code",
      "source": [
        "# Assuming `data['text_clean_v6']` contains the cleaned text data\n",
        "\n",
        "# Count the most common words\n",
        "common_words = pd.Series(' '.join(data['text_clean_v6']).split()).value_counts().head(10)\n",
        "\n",
        "# Plotting the top 10 most common words\n",
        "import matplotlib.pyplot as plt\n",
        "\n",
        "plt.figure(figsize=(10, 6))\n",
        "common_words.plot(kind='bar', color='skyblue', alpha=0.7)\n",
        "plt.title('Top 10 Most Common Words')\n",
        "plt.xlabel('Words')\n",
        "plt.ylabel('Frequency')\n",
        "plt.xticks(rotation=45)\n",
        "plt.show()\n"
      ],
      "metadata": {
        "trusted": true,
        "execution": {
          "iopub.status.busy": "2025-01-20T15:17:57.193938Z",
          "iopub.execute_input": "2025-01-20T15:17:57.194456Z",
          "iopub.status.idle": "2025-01-20T15:17:57.458298Z",
          "shell.execute_reply.started": "2025-01-20T15:17:57.194152Z",
          "shell.execute_reply": "2025-01-20T15:17:57.457485Z"
        },
        "id": "mJq0EqKX8JQ8"
      },
      "outputs": [],
      "execution_count": null
    },
    {
      "cell_type": "code",
      "source": [
        "# Counts of Negative/Positive Words\n",
        "\n",
        "negative_words = ['bad', 'horrible', 'sad','wrong','no','worst','worse',\n",
        "                  'not', 'terrible', 'okay', 'sorrow', 'kill', 'negative', 'empty',\n",
        "                 'hollow', 'poor', 'upset', 'why', 'unfair', 'eliminate','not',\n",
        "                  'never', 'hate', 'dislike']\n",
        "\n",
        "positive_words = ['good', 'great', 'awesome', 'happy', 'joy', 'enjoy', 'use', 'useful',\n",
        "                  'wonder', 'wonderful', 'love', 'like', 'amazing',\n",
        "                  'thanks', 'thank','hey', 'haha','nice', 'cool', 'lol',\n",
        "                 'right', 'yeah', 'fun', 'well', 'enjoyable', 'crazy', 'super', 'kickass']\n",
        "\n",
        "data['neg_word_cnt'] = data['text_clean_v6'].apply(lambda x: len([x for x in x.split() if x.lower() in negative_words]))\n",
        "data['pos_word_cnt'] = data['text_clean_v6'].apply(lambda x: len([x for x in x.split() if x.lower() in positive_words]))\n",
        "\n",
        "# derived ratios\n",
        "data['neg_word_cnt_ratio1'] = data['neg_word_cnt']/data['word_cnt']\n",
        "data['neg_word_cnt_ratio2'] = data['neg_word_cnt']/data['sentence_cnt']\n",
        "data['pos_word_cnt_ratio1'] = data['pos_word_cnt']/data['word_cnt']\n",
        "data['pos_word_cnt_ratio2'] = data['pos_word_cnt']/data['sentence_cnt']\n",
        "\n",
        "new_features_2 = ['neg_word_cnt', 'pos_word_cnt','neg_word_cnt_ratio1','neg_word_cnt_ratio2','pos_word_cnt_ratio1','pos_word_cnt_ratio2']\n",
        "\n",
        "data[['text_clean_v6'] + new_features_2].head()"
      ],
      "metadata": {
        "id": "z29mHo9BLbqM",
        "trusted": true,
        "_uuid": "b28c0dca35841b061e598ca3dd769538c5c0e073",
        "execution": {
          "iopub.status.busy": "2025-01-20T15:07:19.235917Z",
          "iopub.execute_input": "2025-01-20T15:07:19.236125Z",
          "iopub.status.idle": "2025-01-20T15:07:19.430668Z",
          "shell.execute_reply.started": "2025-01-20T15:07:19.236091Z",
          "shell.execute_reply": "2025-01-20T15:07:19.429832Z"
        }
      },
      "outputs": [],
      "execution_count": null
    },
    {
      "cell_type": "code",
      "source": [
        "# Count Vectors (Single Word)\n",
        "\n",
        "from sklearn.feature_extraction.text import CountVectorizer\n",
        "num_features = 50\n",
        "vectorizer = CountVectorizer(ngram_range=(1,1),\n",
        "                            max_features = num_features,\n",
        "                            max_df=1.0, min_df=0.0)\n",
        "count_vectors = vectorizer.fit_transform(list(data['text_clean_v6']))\n",
        "\n",
        "\n",
        "# reshape to pandas\n",
        "from scipy import sparse\n",
        "count_vectors_pd = pd.DataFrame(count_vectors.todense())\n",
        "count_vectors_pd.columns = vectorizer.get_feature_names()\n",
        "count_vector_features = vectorizer.get_feature_names()\n",
        "data = pd.concat([data.reset_index(drop=True),count_vectors_pd.reset_index(drop=True)], axis=1)\n",
        ""
      ],
      "metadata": {
        "id": "ZZyjNWwpa_-3",
        "trusted": true,
        "_uuid": "2b3ecb4815636fa2656980100f63c7686cb8540d",
        "execution": {
          "iopub.status.busy": "2025-01-20T15:07:19.431684Z",
          "iopub.execute_input": "2025-01-20T15:07:19.431896Z",
          "iopub.status.idle": "2025-01-20T15:07:19.589928Z",
          "shell.execute_reply.started": "2025-01-20T15:07:19.431852Z",
          "shell.execute_reply": "2025-01-20T15:07:19.58907Z"
        }
      },
      "outputs": [],
      "execution_count": null
    },
    {
      "cell_type": "code",
      "source": [
        "# Count Vectors (2-Gram)\n",
        "\n",
        "from sklearn.feature_extraction.text import CountVectorizer\n",
        "num_features = 25\n",
        "vectorizer = CountVectorizer(ngram_range=(2,2),\n",
        "                            max_features = num_features,\n",
        "                            max_df=1.0, min_df=0.0)\n",
        "count_vectors = vectorizer.fit_transform(list(data['text_clean_v6']))\n",
        "\n",
        "# reshape to pandas\n",
        "from scipy import sparse\n",
        "count_vectors_pd = pd.DataFrame(count_vectors.todense())\n",
        "count_vectors_pd.columns = vectorizer.get_feature_names()\n",
        "count_vector_2gram_features = vectorizer.get_feature_names()\n",
        "data = pd.concat([data.reset_index(drop=True),count_vectors_pd.reset_index(drop=True)], axis=1)\n",
        ""
      ],
      "metadata": {
        "id": "WAVOBuF7grUB",
        "trusted": true,
        "_uuid": "0074781bda73fd6de5a55c327a6e9339c15ad901",
        "execution": {
          "iopub.status.busy": "2025-01-20T15:07:19.591004Z",
          "iopub.execute_input": "2025-01-20T15:07:19.591198Z",
          "iopub.status.idle": "2025-01-20T15:07:20.183988Z",
          "shell.execute_reply.started": "2025-01-20T15:07:19.591157Z",
          "shell.execute_reply": "2025-01-20T15:07:20.183056Z"
        }
      },
      "outputs": [],
      "execution_count": null
    },
    {
      "cell_type": "code",
      "source": [
        "# TFIDF Vectors\n",
        "\n",
        "from sklearn.feature_extraction.text import TfidfVectorizer\n",
        "num_features = 50\n",
        "vectorizer = TfidfVectorizer(ngram_range=(1,1),\n",
        "                            max_features = num_features,\n",
        "                            max_df=1.0, min_df=0.0)\n",
        "count_vectors = vectorizer.fit_transform(list(data['text_clean_v6']))\n",
        "\n",
        "\n",
        "# reshape to pandas\n",
        "from scipy import sparse\n",
        "count_vectors_pd = pd.DataFrame(count_vectors.todense())\n",
        "count_vectors_pd.columns = vectorizer.get_feature_names()\n",
        "tfidf_features = vectorizer.get_feature_names()\n",
        "data = pd.concat([data.reset_index(drop=True),count_vectors_pd.reset_index(drop=True)], axis=1)\n",
        ""
      ],
      "metadata": {
        "id": "zBSSmXP4vcEc",
        "trusted": true,
        "_uuid": "28fd1a2ac01e6b9e9730fa979a213269641caad5",
        "execution": {
          "iopub.status.busy": "2025-01-20T15:07:20.185152Z",
          "iopub.execute_input": "2025-01-20T15:07:20.185384Z",
          "iopub.status.idle": "2025-01-20T15:07:20.34036Z",
          "shell.execute_reply.started": "2025-01-20T15:07:20.185342Z",
          "shell.execute_reply": "2025-01-20T15:07:20.339385Z"
        }
      },
      "outputs": [],
      "execution_count": null
    },
    {
      "cell_type": "code",
      "source": [
        "#!pip install afinn"
      ],
      "metadata": {
        "id": "xtoO_xg47KyM",
        "trusted": true,
        "_uuid": "fbe96d37f3097b16e7571e185dbced88060b406a",
        "_kg_hide-output": true,
        "execution": {
          "iopub.status.busy": "2025-01-20T15:07:20.341938Z",
          "iopub.execute_input": "2025-01-20T15:07:20.342201Z",
          "iopub.status.idle": "2025-01-20T15:07:20.346443Z",
          "shell.execute_reply.started": "2025-01-20T15:07:20.342153Z",
          "shell.execute_reply": "2025-01-20T15:07:20.345367Z"
        }
      },
      "outputs": [],
      "execution_count": null
    },
    {
      "cell_type": "code",
      "source": [
        "'''\n",
        "from afinn import Afinn\n",
        "\n",
        "def Afinn_apply(var):\n",
        "    afinn = Afinn(emoticons=True)\n",
        "    return afinn.score(var)\n",
        "\n",
        "data['Afinn'] = data['text_clean_v6'].apply(Afinn_apply)\n",
        "data[['text_clean_v6', 'Afinn']].head()\n",
        "'''"
      ],
      "metadata": {
        "id": "5qh-wTWh61E1",
        "trusted": true,
        "_uuid": "fefdd89fbdb5f1859c40bcaf1a5929bee9342b79",
        "_kg_hide-output": true,
        "execution": {
          "iopub.status.busy": "2025-01-20T15:07:20.34756Z",
          "iopub.execute_input": "2025-01-20T15:07:20.347741Z",
          "iopub.status.idle": "2025-01-20T15:07:20.36242Z",
          "shell.execute_reply.started": "2025-01-20T15:07:20.347707Z",
          "shell.execute_reply": "2025-01-20T15:07:20.361406Z"
        }
      },
      "outputs": [],
      "execution_count": null
    },
    {
      "cell_type": "code",
      "source": [
        " from textblob import TextBlob\n",
        "\n",
        "def TextBlobPolarity(var):\n",
        "  testimonial = TextBlob(var)\n",
        "  return testimonial.sentiment.polarity\n",
        "\n",
        "def TextBlobSubjectivity(var):\n",
        "  testimonial = TextBlob(var)\n",
        "  return testimonial.sentiment.subjectivity\n",
        "\n",
        "data['TextBlobSubjectivity'] = data['text_clean_v6'].apply(TextBlobSubjectivity)\n",
        "data['TextBlobPolarity'] = data['text_clean_v6'].apply(TextBlobPolarity)\n",
        "data['TextBlobSubPol_Interaction'] = data['TextBlobSubjectivity']*data['TextBlobPolarity']\n",
        "data[['text_clean_v6', 'TextBlobPolarity', 'TextBlobSubjectivity']].head()"
      ],
      "metadata": {
        "id": "MHuqr7PtKhjM",
        "trusted": true,
        "_uuid": "c73d0baad6bacae10b05aff549173ce474e9ed25",
        "execution": {
          "iopub.status.busy": "2025-01-20T15:07:20.363755Z",
          "iopub.execute_input": "2025-01-20T15:07:20.363991Z",
          "iopub.status.idle": "2025-01-20T15:07:24.398577Z",
          "shell.execute_reply.started": "2025-01-20T15:07:20.363961Z",
          "shell.execute_reply": "2025-01-20T15:07:24.397688Z"
        }
      },
      "outputs": [],
      "execution_count": null
    },
    {
      "cell_type": "code",
      "source": [
        "# Prepare the Data\n",
        "\n",
        "data_temp = data[['response','char_cnt', 'word_cnt', 'sentence_cnt', 'avg_word_size','avg_char_per_sent',\n",
        "                  'avg_word_per_sent','TextBlobSubPol_Interaction',\n",
        "                 'TextBlobPolarity', 'TextBlobSubjectivity',\n",
        "                  'noun_cnt', 'proper_noun_cnt',\n",
        "                'pronoun_cnt','wh_pronoun_cnt','pronoun_tot_cnt',\n",
        "                'adj_cnt', 'adverb_cnt','foreign_cnt','det_cnt', 'modal_cnt',\n",
        "                'verb_cnt', 'verb_past_cnt', 'verb_present_cnt','verb_tot_cnt'\n",
        "                ,'cc_cnt', 'in_cnt', 'ccin_cnt']\n",
        "                 + count_vector_features\n",
        "                 + tfidf_features\n",
        "                 + count_vector_2gram_features\n",
        "                 + new_features_2]\n",
        "data_temp = data_temp.dropna()\n",
        "data_temp.drop_duplicates(keep = 'first',inplace = True)\n",
        "data_temp.head()"
      ],
      "metadata": {
        "id": "xmX_HClO6bBF",
        "trusted": true,
        "_uuid": "0be8fe4433c068eebff956f1875cf198699bb5ad",
        "execution": {
          "iopub.status.busy": "2025-01-20T15:07:24.39976Z",
          "iopub.execute_input": "2025-01-20T15:07:24.40002Z",
          "iopub.status.idle": "2025-01-20T15:07:24.569934Z",
          "shell.execute_reply.started": "2025-01-20T15:07:24.399969Z",
          "shell.execute_reply": "2025-01-20T15:07:24.569065Z"
        }
      },
      "outputs": [],
      "execution_count": null
    },
    {
      "cell_type": "code",
      "source": [
        "# Train Test Split\n",
        "\n",
        "X = data_temp.drop('response', axis = 1)\n",
        "y = data_temp['response'].astype('int')\n",
        "\n",
        "from sklearn.model_selection import train_test_split\n",
        "X_train, X_test, y_train, y_test = train_test_split(X, y, train_size = 0.7, random_state=20)"
      ],
      "metadata": {
        "id": "yYVzvwI-HJna",
        "trusted": true,
        "_uuid": "6c4eb7be132c4530c51bc9dd60b7070f2cd2ae6d",
        "execution": {
          "iopub.status.busy": "2025-01-20T15:07:24.571132Z",
          "iopub.execute_input": "2025-01-20T15:07:24.571483Z",
          "iopub.status.idle": "2025-01-20T15:07:24.589374Z",
          "shell.execute_reply.started": "2025-01-20T15:07:24.571342Z",
          "shell.execute_reply": "2025-01-20T15:07:24.588298Z"
        }
      },
      "outputs": [],
      "execution_count": null
    },
    {
      "cell_type": "code",
      "source": [
        "#Using the inverse of the class frequency to balance .. Let's what the output comes -Azizur\n",
        "\n",
        "#Accuracy decreased not good !!!\n",
        "\n",
        "#from sklearn.utils.class_weight import compute_class_weight\n",
        "#class_weights_val = compute_class_weight('balanced', classes=np.unique(y_train), y=y_train)\n"
      ],
      "metadata": {
        "trusted": true,
        "execution": {
          "iopub.status.busy": "2025-01-20T15:35:24.333384Z",
          "iopub.execute_input": "2025-01-20T15:35:24.333702Z",
          "iopub.status.idle": "2025-01-20T15:35:24.340823Z",
          "shell.execute_reply.started": "2025-01-20T15:35:24.333658Z",
          "shell.execute_reply": "2025-01-20T15:35:24.338378Z"
        },
        "id": "PZAWub1_8JQ9"
      },
      "outputs": [],
      "execution_count": null
    },
    {
      "cell_type": "code",
      "source": [
        "#class_weights"
      ],
      "metadata": {
        "trusted": true,
        "execution": {
          "iopub.status.busy": "2025-01-20T15:34:47.153486Z",
          "iopub.execute_input": "2025-01-20T15:34:47.153843Z",
          "iopub.status.idle": "2025-01-20T15:34:47.159752Z",
          "shell.execute_reply.started": "2025-01-20T15:34:47.153808Z",
          "shell.execute_reply": "2025-01-20T15:34:47.158654Z"
        },
        "id": "ODurPKY28JQ9"
      },
      "outputs": [],
      "execution_count": null
    },
    {
      "cell_type": "code",
      "source": [
        "from catboost import CatBoostClassifier, Pool\n",
        "\n",
        "train_pool = Pool(X_train, y_train, cat_features = np.where(X.dtypes == 'object')[0])\n",
        "test_pool = Pool(X_test, y_test, cat_features = np.where(X.dtypes == 'object')[0])\n",
        "model = CatBoostClassifier(random_state = 1, eval_metric='AUC', use_best_model = True, verbose = 200, class_weights = [1,3] )\n",
        "model.fit(train_pool, eval_set = test_pool)"
      ],
      "metadata": {
        "id": "JTBlPhcmHkt2",
        "trusted": true,
        "_uuid": "5e38ef025a8157e73c57846bedf640204d408bee",
        "execution": {
          "iopub.status.busy": "2025-01-20T15:37:32.985641Z",
          "iopub.execute_input": "2025-01-20T15:37:32.985911Z",
          "iopub.status.idle": "2025-01-20T15:38:17.013193Z",
          "shell.execute_reply.started": "2025-01-20T15:37:32.985867Z",
          "shell.execute_reply": "2025-01-20T15:38:17.012245Z"
        }
      },
      "outputs": [],
      "execution_count": null
    },
    {
      "cell_type": "code",
      "source": [
        "#CAT FEATURE IMPORTANCE\n",
        "\n",
        "feature_importance = model.get_feature_importance(train_pool)\n",
        "feature_names = X_train.columns\n",
        "feature_imp = pd.DataFrame([feature_names, feature_importance])\n",
        "final = feature_imp.transpose()\n",
        "final.sort_values(by = 1, ascending = False, inplace = True)\n",
        "pd.set_option('display.max_colwidth', -1)\n",
        "final.head(10)"
      ],
      "metadata": {
        "id": "7fM5EeQOIYUJ",
        "trusted": true,
        "_uuid": "f08b0abab7032e4ba8b70dcd08f64e495fed1046",
        "execution": {
          "iopub.status.busy": "2025-01-20T15:36:21.724828Z",
          "iopub.execute_input": "2025-01-20T15:36:21.72509Z",
          "iopub.status.idle": "2025-01-20T15:36:21.752047Z",
          "shell.execute_reply.started": "2025-01-20T15:36:21.725052Z",
          "shell.execute_reply": "2025-01-20T15:36:21.751029Z"
        }
      },
      "outputs": [],
      "execution_count": null
    },
    {
      "cell_type": "code",
      "source": [
        "# Assuming `feature_names` and `feature_importance` are already extracted\n",
        "import pandas as pd\n",
        "import matplotlib.pyplot as plt\n",
        "\n",
        "# Create the feature importance DataFrame\n",
        "feature_imp = pd.DataFrame({\n",
        "    'Feature': feature_names,\n",
        "    'Importance': feature_importance\n",
        "})\n",
        "\n",
        "# Sort the features by importance\n",
        "feature_imp = feature_imp.sort_values(by='Importance', ascending=False)\n",
        "\n",
        "# Plotting the feature importance graph\n",
        "plt.figure(figsize=(10, 6))\n",
        "plt.barh(feature_imp['Feature'][:10], feature_imp['Importance'][:10], color='skyblue')\n",
        "plt.gca().invert_yaxis()  # Invert y-axis to display the most important feature at the top\n",
        "plt.title('Top 10 Most Important Features')\n",
        "plt.xlabel('Feature Importance')\n",
        "plt.ylabel('Features')\n",
        "plt.show()\n"
      ],
      "metadata": {
        "trusted": true,
        "execution": {
          "iopub.status.busy": "2025-01-20T15:08:12.847666Z",
          "iopub.execute_input": "2025-01-20T15:08:12.847906Z",
          "iopub.status.idle": "2025-01-20T15:08:13.118207Z",
          "shell.execute_reply.started": "2025-01-20T15:08:12.847851Z",
          "shell.execute_reply": "2025-01-20T15:08:13.115618Z"
        },
        "id": "pL2nYSb98JQ9"
      },
      "outputs": [],
      "execution_count": null
    },
    {
      "cell_type": "code",
      "source": [
        "# RESULTS\n",
        "probs = model.predict_proba(test_pool)\n",
        "pred = np.where(probs[:,1] > 0.90, 1, 0)\n",
        "\n",
        "print('Predicted Class and Probabilities: \\n')\n",
        "print(pred[:5]) # predicted class\n",
        "print(probs[:5]) # probability scores\n",
        "\n",
        "from sklearn.metrics import accuracy_score, precision_score, recall_score, f1_score, roc_auc_score, confusion_matrix, roc_curve, auc\n",
        "print('\\nAccuracy: ', str(accuracy_score(y_test, pred)))\n",
        "print('Precision: ', str(precision_score(y_test, pred)))\n",
        "print('Recall: ', str(recall_score(y_test, pred)))\n",
        "print('F1: ', str(f1_score(y_test, pred)))\n",
        "print('Area under ROC Curve: ', str(roc_auc_score(y_test, probs[:,1])))\n",
        "print('GINI: ', str(-1 + 2*roc_auc_score(y_test, probs[:,1])))\n",
        "\n",
        "tn, fp, fn, tp = confusion_matrix(y_test, pred).ravel()\n",
        "\n",
        "print('\\nTrue Negatives: ', str(tn))\n",
        "print('True Positives: ', str(tp))\n",
        "print('False Negatives: ', str(fn))\n",
        "print('False Positives: ', str(fp))\n",
        "\n",
        "print('\\nTotal Reviews: ', str(tn+fp+fn+tp))\n",
        "print('Reviews Predicted as Negative: ', str(fn+tn))\n",
        "print('Total Negative Reviews in Actuality: ', str(fp+tn))\n",
        "print('Negative Reviews that were Correctly Predicted: ', str(tn))\n",
        "\n",
        "#Aziz Here THe second model works batter due to using class weights[1,2] which 1 to the majority class and 2 to the minority class ... This makes the modle pay\n",
        "#much more attention to minortiy class penalizing any error.  #The previous model we didn't account class imbalance\n",
        "\n",
        "#I\n"
      ],
      "metadata": {
        "id": "54l8QC1BU6lo",
        "trusted": true,
        "_uuid": "e36f800240cb1079526bb7f5aa74b2852ef35128",
        "execution": {
          "iopub.status.busy": "2025-01-20T15:36:27.238552Z",
          "iopub.execute_input": "2025-01-20T15:36:27.238794Z",
          "iopub.status.idle": "2025-01-20T15:36:27.259087Z",
          "shell.execute_reply.started": "2025-01-20T15:36:27.238748Z",
          "shell.execute_reply": "2025-01-20T15:36:27.258014Z"
        }
      },
      "outputs": [],
      "execution_count": null
    },
    {
      "cell_type": "code",
      "source": [
        "import matplotlib.pyplot as plt\n",
        "import seaborn as sns\n",
        "\n",
        "# Confusion matrix\n",
        "cm = confusion_matrix(y_test, pred)\n",
        "\n",
        "# Plotting the confusion matrix\n",
        "plt.figure(figsize=(8, 6))\n",
        "sns.heatmap(cm, annot=True, fmt='d', cmap='Blues', xticklabels=['Negative', 'Positive'], yticklabels=['Negative', 'Positive'])\n",
        "plt.title('Confusion Matrix')\n",
        "plt.xlabel('Predicted')\n",
        "plt.ylabel('Actual')\n",
        "plt.show()"
      ],
      "metadata": {
        "trusted": true,
        "_uuid": "cd72fe1e095b302a74b5173f7b7ed3800922d10c",
        "execution": {
          "iopub.status.busy": "2025-01-20T15:08:13.149865Z",
          "iopub.execute_input": "2025-01-20T15:08:13.150028Z",
          "iopub.status.idle": "2025-01-20T15:08:13.357846Z",
          "shell.execute_reply.started": "2025-01-20T15:08:13.149994Z",
          "shell.execute_reply": "2025-01-20T15:08:13.356551Z"
        },
        "id": "fJjHVnd88JQ-"
      },
      "outputs": [],
      "execution_count": null
    },
    {
      "cell_type": "code",
      "source": [
        "import matplotlib.pyplot as plt\n",
        "import numpy as np\n",
        "\n",
        "# Assuming `probs` contains the probability scores and `example_ids` are for the first 5 examples\n",
        "example_ids = range(1, 6)  # Example IDs for visualization\n",
        "positive_probs = probs[:5, 1]  # Positive class probabilities\n",
        "negative_probs = probs[:5, 0]  # Negative class probabilities\n",
        "\n",
        "# Plotting probabilities with clear representation\n",
        "plt.figure(figsize=(8, 6))\n",
        "width = 0.4  # Width of the bars\n",
        "positions = np.arange(len(example_ids))\n",
        "\n",
        "# Plot bars for negative and positive probabilities\n",
        "plt.bar(positions - width / 2, negative_probs, width=width, label='Negative Probability', color='orange', alpha=0.7)\n",
        "plt.bar(positions + width / 2, positive_probs, width=width, label='Positive Probability', color='blue', alpha=0.7)\n",
        "\n",
        "# Formatting the graph\n",
        "plt.xticks(positions, [f'Example {i}' for i in example_ids])\n",
        "plt.ylabel('Probability')\n",
        "plt.title('Predicted Class Probabilities for First 5 Examples')\n",
        "plt.legend()\n",
        "plt.show()\n"
      ],
      "metadata": {
        "trusted": true,
        "execution": {
          "iopub.status.busy": "2025-01-20T15:13:49.911008Z",
          "iopub.execute_input": "2025-01-20T15:13:49.911259Z",
          "iopub.status.idle": "2025-01-20T15:13:50.096011Z",
          "shell.execute_reply.started": "2025-01-20T15:13:49.911222Z",
          "shell.execute_reply": "2025-01-20T15:13:50.094434Z"
        },
        "id": "Mw-HJdC58JQ-"
      },
      "outputs": [],
      "execution_count": null
    },
    {
      "cell_type": "code",
      "source": [
        "# Import necessary library\n",
        "from sklearn.metrics import roc_curve, auc\n",
        "import matplotlib.pyplot as plt\n",
        "\n",
        "# Compute the ROC curve and AUC score\n",
        "fpr, tpr, thresholds = roc_curve(y_test, probs[:, 1])  # False Positive Rate, True Positive Rate\n",
        "roc_auc = auc(fpr, tpr)  # Area Under the Curve\n",
        "\n",
        "# Plot the ROC curve\n",
        "plt.figure(figsize=(8, 6))\n",
        "plt.plot(fpr, tpr, color='blue', lw=2, label=f'ROC Curve (AUC = {roc_auc:.2f})')\n",
        "plt.plot([0, 1], [0, 1], color='gray', linestyle='--', lw=1)  # Diagonal line\n",
        "plt.xlabel('False Positive Rate (FPR)')\n",
        "plt.ylabel('True Positive Rate (TPR)')\n",
        "plt.title('Receiver Operating Characteristic (ROC) Curve')\n",
        "plt.legend(loc='lower right')\n",
        "plt.grid()\n",
        "plt.show()\n"
      ],
      "metadata": {
        "trusted": true,
        "execution": {
          "iopub.status.busy": "2025-01-20T15:08:13.592079Z",
          "iopub.execute_input": "2025-01-20T15:08:13.592299Z",
          "iopub.status.idle": "2025-01-20T15:08:13.823458Z",
          "shell.execute_reply.started": "2025-01-20T15:08:13.592251Z",
          "shell.execute_reply": "2025-01-20T15:08:13.821324Z"
        },
        "id": "x0ngv3fW8JQ-"
      },
      "outputs": [],
      "execution_count": null
    },
    {
      "cell_type": "code",
      "source": [
        "# Calculate the GINI coefficient\n",
        "gini = -1 + 2 * roc_auc\n",
        "\n",
        "# Plotting the GINI coefficient\n",
        "plt.figure(figsize=(6, 4))\n",
        "plt.bar(['GINI Coefficient'], [gini], color='lightcoral', alpha=0.7)\n",
        "plt.ylim(0, 1)  # GINI values range from 0 to 1\n",
        "plt.title('Model GINI Coefficient')\n",
        "plt.ylabel('Score')\n",
        "\n",
        "# Annotate the bar value\n",
        "plt.text(0, gini + 0.02, f'{gini:.2f}', ha='center', fontsize=12)\n",
        "\n",
        "plt.show()\n"
      ],
      "metadata": {
        "trusted": true,
        "execution": {
          "iopub.status.busy": "2025-01-20T15:08:13.824802Z",
          "iopub.execute_input": "2025-01-20T15:08:13.825068Z",
          "iopub.status.idle": "2025-01-20T15:08:13.95811Z",
          "shell.execute_reply.started": "2025-01-20T15:08:13.825023Z",
          "shell.execute_reply": "2025-01-20T15:08:13.957355Z"
        },
        "id": "kxKQwM3s8JQ-"
      },
      "outputs": [],
      "execution_count": null
    }
  ]
}